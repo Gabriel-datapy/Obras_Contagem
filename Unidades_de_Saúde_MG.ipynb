{
  "nbformat": 4,
  "nbformat_minor": 0,
  "metadata": {
    "colab": {
      "name": "Unidades de Saúde - MG.ipynb",
      "provenance": [],
      "authorship_tag": "ABX9TyNWFV0rX4Y7uXn11UUZKIRR",
      "include_colab_link": true
    },
    "kernelspec": {
      "name": "python3",
      "display_name": "Python 3"
    }
  },
  "cells": [
    {
      "cell_type": "markdown",
      "metadata": {
        "id": "view-in-github",
        "colab_type": "text"
      },
      "source": [
        "<a href=\"https://colab.research.google.com/github/Gabriel-datapy/Obras_Contagem/blob/master/Unidades_de_Sa%C3%BAde_MG.ipynb\" target=\"_parent\"><img src=\"https://colab.research.google.com/assets/colab-badge.svg\" alt=\"Open In Colab\"/></a>"
      ]
    },
    {
      "cell_type": "code",
      "metadata": {
        "id": "8AH08hnRAaQh",
        "colab_type": "code",
        "colab": {
          "base_uri": "https://localhost:8080/",
          "height": 198
        },
        "outputId": "190fab0f-cac4-4014-e669-3c0708b90221"
      },
      "source": [
        "import pandas as pd\n",
        "import seaborn as sns\n",
        "\n",
        "url_existente = pd.read_csv('https://raw.githubusercontent.com/Gabriel-datapy/Unidades_de_Saude_MG-/master/ubs_existentesnone.csv.csv')\n",
        "url_existente.head()"
      ],
      "execution_count": 3,
      "outputs": [
        {
          "output_type": "execute_result",
          "data": {
            "text/html": [
              "<div>\n",
              "<style scoped>\n",
              "    .dataframe tbody tr th:only-of-type {\n",
              "        vertical-align: middle;\n",
              "    }\n",
              "\n",
              "    .dataframe tbody tr th {\n",
              "        vertical-align: top;\n",
              "    }\n",
              "\n",
              "    .dataframe thead th {\n",
              "        text-align: right;\n",
              "    }\n",
              "</style>\n",
              "<table border=\"1\" class=\"dataframe\">\n",
              "  <thead>\n",
              "    <tr style=\"text-align: right;\">\n",
              "      <th></th>\n",
              "      <th>no_cidade</th>\n",
              "      <th>nome_da_nidade</th>\n",
              "      <th>gid</th>\n",
              "      <th>valor</th>\n",
              "      <th>taxa</th>\n",
              "    </tr>\n",
              "  </thead>\n",
              "  <tbody>\n",
              "    <tr>\n",
              "      <th>0</th>\n",
              "      <td>Palminópolis</td>\n",
              "      <td>&lt;i&gt;Palminópolis&lt;/i&gt;</td>\n",
              "      <td>7616</td>\n",
              "      <td>&lt;b&gt;2&lt;/b&gt;</td>\n",
              "      <td>2</td>\n",
              "    </tr>\n",
              "    <tr>\n",
              "      <th>1</th>\n",
              "      <td>Ituberá</td>\n",
              "      <td>&lt;i&gt;Ituberá&lt;/i&gt;</td>\n",
              "      <td>7965</td>\n",
              "      <td>&lt;b&gt;13&lt;/b&gt;</td>\n",
              "      <td>13</td>\n",
              "    </tr>\n",
              "    <tr>\n",
              "      <th>2</th>\n",
              "      <td>João Neiva</td>\n",
              "      <td>&lt;i&gt;João Neiva&lt;/i&gt;</td>\n",
              "      <td>11105</td>\n",
              "      <td>&lt;b&gt;10&lt;/b&gt;</td>\n",
              "      <td>10</td>\n",
              "    </tr>\n",
              "    <tr>\n",
              "      <th>3</th>\n",
              "      <td>Piau</td>\n",
              "      <td>&lt;i&gt;Piau&lt;/i&gt;</td>\n",
              "      <td>10796</td>\n",
              "      <td>&lt;b&gt;2&lt;/b&gt;</td>\n",
              "      <td>2</td>\n",
              "    </tr>\n",
              "    <tr>\n",
              "      <th>4</th>\n",
              "      <td>Pato Branco</td>\n",
              "      <td>&lt;i&gt;Pato Branco&lt;/i&gt;</td>\n",
              "      <td>5990</td>\n",
              "      <td>&lt;b&gt;15&lt;/b&gt;</td>\n",
              "      <td>15</td>\n",
              "    </tr>\n",
              "  </tbody>\n",
              "</table>\n",
              "</div>"
            ],
            "text/plain": [
              "      no_cidade       nome_da_nidade    gid      valor  taxa\n",
              "0  Palminópolis  <i>Palminópolis</i>   7616   <b>2</b>     2\n",
              "1       Ituberá       <i>Ituberá</i>   7965  <b>13</b>    13\n",
              "2    João Neiva    <i>João Neiva</i>  11105  <b>10</b>    10\n",
              "3          Piau          <i>Piau</i>  10796   <b>2</b>     2\n",
              "4   Pato Branco   <i>Pato Branco</i>   5990  <b>15</b>    15"
            ]
          },
          "metadata": {
            "tags": []
          },
          "execution_count": 3
        }
      ]
    },
    {
      "cell_type": "code",
      "metadata": {
        "id": "5WpkqyWsAxY5",
        "colab_type": "code",
        "colab": {}
      },
      "source": [
        ""
      ],
      "execution_count": 0,
      "outputs": []
    }
  ]
}